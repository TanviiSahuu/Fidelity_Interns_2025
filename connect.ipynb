{
 "cells": [
  {
   "cell_type": "code",
   "execution_count": 2,
   "metadata": {},
   "outputs": [
    {
     "name": "stdout",
     "output_type": "stream",
     "text": [
      "^C\n",
      "Note: you may need to restart the kernel to use updated packages.\n"
     ]
    },
    {
     "name": "stdout",
     "output_type": "stream",
     "text": [
      "Collecting pandas\n",
      "  Downloading pandas-2.2.3-cp311-cp311-win_amd64.whl (11.6 MB)\n",
      "     ---------------------------------------- 11.6/11.6 MB 9.9 MB/s eta 0:00:00\n",
      "Collecting numpy>=1.23.2\n",
      "  Downloading numpy-2.2.3-cp311-cp311-win_amd64.whl (12.9 MB)\n",
      "     --------------------------------------- 12.9/12.9 MB 11.3 MB/s eta 0:00:00\n",
      "Requirement already satisfied: python-dateutil>=2.8.2 in c:\\users\\tanvi\\desktop\\fidelity international\\python training\\dbt_snowflake\\env_snowflake\\lib\\site-packages (from pandas) (2.9.0.post0)\n",
      "Requirement already satisfied: pytz>=2020.1 in c:\\users\\tanvi\\desktop\\fidelity international\\python training\\dbt_snowflake\\env_snowflake\\lib\\site-packages (from pandas) (2025.1)\n",
      "Requirement already satisfied: tzdata>=2022.7 in c:\\users\\tanvi\\desktop\\fidelity international\\python training\\dbt_snowflake\\env_snowflake\\lib\\site-packages (from pandas) (2025.1)\n",
      "Requirement already satisfied: six>=1.5 in c:\\users\\tanvi\\desktop\\fidelity international\\python training\\dbt_snowflake\\env_snowflake\\lib\\site-packages (from python-dateutil>=2.8.2->pandas) (1.17.0)\n",
      "Installing collected packages: numpy, pandas\n",
      "Successfully installed numpy-2.2.3 pandas-2.2.3\n"
     ]
    },
    {
     "name": "stderr",
     "output_type": "stream",
     "text": [
      "\n",
      "[notice] A new release of pip available: 22.3.1 -> 25.0.1\n",
      "[notice] To update, run: python.exe -m pip install --upgrade pip\n"
     ]
    }
   ],
   "source": [
    "%pip install pandas"
   ]
  },
  {
   "cell_type": "code",
   "execution_count": 1,
   "metadata": {},
   "outputs": [],
   "source": [
    "import pandas as pd \n",
    "from snowflake.connector import connect"
   ]
  },
  {
   "cell_type": "code",
   "execution_count": 4,
   "metadata": {},
   "outputs": [
    {
     "name": "stdout",
     "output_type": "stream",
     "text": [
      "    TOTAL_BILL   TIP     SEX  SMOKER   DAY    TIME  SIZE PRICE_PER_PERSON\n",
      "0        16.99  1.01  Female   False   Sun  Dinner     2             8.49\n",
      "1        10.34  1.66    Male   False   Sun  Dinner     3             3.45\n",
      "2        21.01  3.50    Male   False   Sun  Dinner     3             7.00\n",
      "3        23.68  3.31    Male   False   Sun  Dinner     2            11.84\n",
      "4        24.59  3.61  Female   False   Sun  Dinner     4             6.15\n",
      "..         ...   ...     ...     ...   ...     ...   ...              ...\n",
      "239      29.03  5.92    Male   False   Sat  Dinner     3             9.68\n",
      "240      27.18  2.00  Female    True   Sat  Dinner     2            13.59\n",
      "241      22.67  2.00    Male    True   Sat  Dinner     2            11.34\n",
      "242      17.82  1.75    Male   False   Sat  Dinner     2             8.91\n",
      "243      18.78  3.00  Female   False  Thur  Dinner     2             9.39\n",
      "\n",
      "[244 rows x 8 columns]\n"
     ]
    }
   ],
   "source": [
    "con = connect(\n",
    "    user = \"TanviiSahuu\",\n",
    "    password = \"Snowflake@2025\",\n",
    "    account = \"wj48254.central-india.azure\",\n",
    "    warehouse = \"fil_dw\",\n",
    "    database = \"fil_DB1\",\n",
    "    schema = \"fil_schema1\",\n",
    "    role = \"ACCOUNTADMIN\"\n",
    ")\n",
    "cur = con.cursor()\n",
    "cur.execute(\"Select * from tips_table\")\n",
    "data = cur.fetchall()\n",
    "df = pd.DataFrame(data, columns=[x[0] for x in cur.description])\n",
    "print(df)"
   ]
  },
  {
   "cell_type": "code",
   "execution_count": null,
   "metadata": {},
   "outputs": [],
   "source": []
  }
 ],
 "metadata": {
  "kernelspec": {
   "display_name": "Python 3",
   "language": "python",
   "name": "python3"
  },
  "language_info": {
   "codemirror_mode": {
    "name": "ipython",
    "version": 3
   },
   "file_extension": ".py",
   "mimetype": "text/x-python",
   "name": "python",
   "nbconvert_exporter": "python",
   "pygments_lexer": "ipython3",
   "version": "3.11.2"
  }
 },
 "nbformat": 4,
 "nbformat_minor": 2
}
